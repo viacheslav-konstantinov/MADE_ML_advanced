{
 "cells": [
  {
   "cell_type": "markdown",
   "metadata": {},
   "source": [
    "## Домашнее задание №1 по курсу \"Машинное обучение\""
   ]
  },
  {
   "cell_type": "markdown",
   "metadata": {},
   "source": [
    "## Константинов Вячеслав"
   ]
  },
  {
   "cell_type": "markdown",
   "metadata": {},
   "source": [
    "### Вопрос 1"
   ]
  },
  {
   "cell_type": "markdown",
   "metadata": {},
   "source": [
    "Произошло убийство. На месте убийства найдена кровь, которая явно (будем считать, что с вероятностью 1) принадлежит настоящему убийце. Кровь принадлежит редкой группе, которая присутствует всего лишь у 1% населения. И так получилось, что у подсудимого как раз эта редкая группа крови!\n",
    "\n",
    "Первым выходит прокурор и говорит: “Шанс, что у подсудимого была бы именно такая группа крови, если бы он был невиновен -- всего 1%; значит, с вероятностью 99% он виновен, предлагаю осудить”. В чём не прав прокурор? Укажите, какие вероятности он оценил, а какие должен был оценить."
   ]
  },
  {
   "cell_type": "markdown",
   "metadata": {},
   "source": [
    "### Ответ\n",
    "\n",
    "Рассмотрим два типа событий: $A$ = {невиновен}, $B$ = {обладает редкой группой крови}. Прокурор в своей речи оценивает условную вероятность $P(B|A)$, а необходимо оценить $P(A|B)$, которая, если учитывать как доказательство только и только кровь, будет равна:\n",
    "\n",
    "$$ P(A|B) = \\frac{P(B|A) \\cdot P(A)}{P(B)} = \\frac{ \\frac{9999}{100000} \\cdot \\frac{999999}{1000000} }{\\frac{10000}{1000000}} = \\frac{9999}{10000} \\cdot \\frac{999999}{1000000}$$\n",
    "\n",
    "Таким образом, при использовании в качестве доказательства только редкой группы крови приводит к тому, что вероятность невиновности близок к 1 и отличается от вероятности, что произвольно выбранный челоек из города - убийца, лишь на множитель, который также очень близок к 1. Чтобы улучшить оценку, прокурору следует использовать кровь вместе с другими доказательствами, что изменить априорные оценки вероятностей в теореме Байеса, то есть, то что подсудимый находился рядом с местом происшествия или был знаком с жертвой."
   ]
  },
  {
   "cell_type": "markdown",
   "metadata": {},
   "source": [
    "### Вопрос 2"
   ]
  },
  {
   "cell_type": "markdown",
   "metadata": {},
   "source": [
    "Затем выходит адвокат, объясняет ошибки прокурора, а сам говорит следующее: “В городе живёт миллион человек. Это значит, что примерно у 10000 из них такая группа крови. Значит, всё, что говорит нам эта кровь -- это то, что подсудимый совершил убийство с вероятностью 0.01%. \n",
    "\n",
    "Получается, что это свидетельство не просто не является строгим доказательством, а и вовсе даёт нам ничтожно малую вероятность того, что мой подзащитный виновен, так что предлагаю исключить его из материалов дела”. В чём не прав адвокат? Укажите, какие вероятности он оценил, а какие должен был оценить."
   ]
  },
  {
   "cell_type": "markdown",
   "metadata": {},
   "source": [
    "### Ответ\n",
    "\n",
    "Обозначим через отрицание $A$ события $C$ = {виновен}. Тогда адвокат формально верно воспользовался теоремой Байеса, если учитывать как доказательство только кровь:\n",
    "\n",
    "$$ P(C|B) = \\frac{P(B|C) \\cdot P(C)}{P(B)} = \\frac{1 \\cdot \\frac{1}{1000000} }{ \\frac{10000}{1000000}} = \\dfrac{1}{10000}$$\n",
    "\n",
    "Однако, если бы адвокат также учёл бы и другие доказательства, свидетельствующие против подсудимого, то априорные вероятности и оценка $P(C|B)$ изменились бы не в пользу подсудимого."
   ]
  },
  {
   "cell_type": "markdown",
   "metadata": {},
   "source": [
    "### Вопрос 3"
   ]
  },
  {
   "cell_type": "markdown",
   "metadata": {},
   "source": [
    "Вернёмся к тесту на коронавирус из лекции. Напомню, что коронавирусом по нашему предположению болеет 1% населения, а тест имеет вероятность ошибки 5% в обе стороны. Мы видели, что в результате человек с положительным тестом имеет апостериорную вероятность оказаться больным всего лишь около 16%.\n",
    "Врачи решили, что терпеть это никак нельзя; они готовы провести срочное исследование и улучшить качество теста на коронавирус. Но сил и денег хватит только для того, чтобы сократить один тип ошибок, т.е. уменьшить или только число false positives (когда тест выдаёт позитивный результат у здорового человека), или только число false negatives (когда тест выдаёт отрицательный результат у больного).\n",
    "Помогите медикам: постройте зависимости апостериорных вероятностей болезни после положительного и отрицательного теста от обоих видов ошибок (например, в виде графиков), сделайте выводы и дайте рекомендации врачам -- на чём лучше сосредоточиться?"
   ]
  },
  {
   "cell_type": "markdown",
   "metadata": {},
   "source": [
    "### Ответ"
   ]
  },
  {
   "cell_type": "code",
   "execution_count": 1,
   "metadata": {
    "collapsed": true
   },
   "outputs": [],
   "source": [
    "import matplotlib.pyplot as plt\n",
    "import numpy as np\n",
    "\n",
    "%matplotlib inline "
   ]
  },
  {
   "cell_type": "markdown",
   "metadata": {},
   "source": [
    "Обозначим следующие собития Sick = {\"Пациент болен\"}, Pos = {\"Тест дал положительный результат\"}, Neg = {\"Тест дал отрицательный результат\"}, $\\alpha_1$,$\\alpha_2$ - вероятности ошибок первого рода (ложноположительных) и второго рода (ложноотрицательных), $q$ - доля заболевшего населения.\n",
    "\n",
    "Вероятность корректного положительного результата\n",
    "\n",
    "$$P_{good} = P(Sick|Pos) = \\frac{P(Pos|Sick) \\cdot P(Sick)}{P(Pos)} = \\frac{(1 - \\alpha_1) q}{(1 - \\alpha_1) q + \\alpha_1  (1 - q)}$$\n",
    "\n",
    "Вероятность некорректного отрицательного результата\n",
    "\n",
    "$$P_{bad} = P(Sick|Neg) = \\frac{P(Neg|Sick) \\cdot P(Sick)}{P(Neg)} = \\frac{\\alpha_2 q}{(1 - \\alpha_2)(1 - q) + \\alpha_2 q}  $$"
   ]
  },
  {
   "cell_type": "code",
   "execution_count": 2,
   "metadata": {
    "collapsed": true
   },
   "outputs": [],
   "source": [
    "# q - доля населения с коронавирусом\n",
    "\n",
    "#вероятность того, что пациент заболел, если тест положителен\n",
    "# alpha_1 - вероятность ложноположительного теста = ошибка первого рода\n",
    "def P_good(alpha_1, q=0.01):\n",
    "    return (1 - alpha_1) * q / ((1 - alpha_1)*q + alpha_1*(1 - q))\n",
    "\n",
    "#вероятность того, что пациент заболел, если тест отрицателен\n",
    "# alpha_2 - вероятность ложноотрицательного теста = ошибка второго рода\n",
    "def P_bad(alpha_2, q=0.01):\n",
    "    return alpha_2 * q / ((1 - alpha_2)*(1 - q) + alpha_2*q)"
   ]
  },
  {
   "cell_type": "code",
   "execution_count": 3,
   "metadata": {},
   "outputs": [],
   "source": [
    "alpha = np.linspace(.0, 1., num=101)"
   ]
  },
  {
   "cell_type": "code",
   "execution_count": 4,
   "metadata": {},
   "outputs": [
    {
     "data": {
      "image/png": "[encoded data removed]",
      "text/plain": [
       "<matplotlib.figure.Figure at 0x7f3275a46828>"
      ]
     },
     "metadata": {},
     "output_type": "display_data"
    }
   ],
   "source": [
    "plt.plot(alpha, P_good(alpha, q=0.01), label=\"Корректное = тест положителен\")\n",
    "plt.plot(alpha, P_bad (alpha, q=0.01), label=\"Некорректное = тест отрицателен\", c='black')\n",
    "\n",
    "plt.title(\"Вероятности показаний теста\\nпри условии наличии заболевания у пациента\")\n",
    "plt.xlabel(r\"$\\alpha_1$, $\\alpha_2$\")\n",
    "plt.ylabel(\"Вероятность\")\n",
    "\n",
    "plt.vlines(0.05, 0, P_good(0.05, q=0.01), colors='red', linestyles='dashed')\n",
    "plt.vlines(0.02, 0, P_good(0.02, q=0.01), colors='red', linestyles='dashed')\n",
    "plt.vlines(0.005, 0, P_good(0.005, q=0.01), colors='red', linestyles='dashed')\n",
    "\n",
    "plt.text(0.05, P_good(0.05, q=0.01), f\"$P$ = {round(P_good(0.05, q=0.01), 2)} при \" + r\"$\\alpha_1=0.05$\")\n",
    "plt.text(0.02, P_good(0.02, q=0.01), f\"$P$ = {round(P_good(0.02, q=0.01), 2)} при \" + r\"$\\alpha_1=0.02$\")\n",
    "plt.text(0.005, P_good(0.005, q=0.01), f\"$P$ = {round(P_good(0.005, q=0.01), 2)} при \" + r\"$\\alpha_1=0.005$\")\n",
    "\n",
    "plt.legend()\n",
    "plt.grid()\n",
    "plt.show()"
   ]
  },
  {
   "cell_type": "code",
   "execution_count": 5,
   "metadata": {},
   "outputs": [
    {
     "data": {
      "text/plain": [
       "0.16101694915254236"
      ]
     },
     "execution_count": 5,
     "metadata": {},
     "output_type": "execute_result"
    }
   ],
   "source": [
    "P_good(0.05, 0.01)"
   ]
  },
  {
   "cell_type": "code",
   "execution_count": 6,
   "metadata": {},
   "outputs": [
    {
     "data": {
      "text/plain": [
       "0.0005313496280552604"
      ]
     },
     "execution_count": 6,
     "metadata": {},
     "output_type": "execute_result"
    }
   ],
   "source": [
    "P_bad(0.05, 0.01)"
   ]
  },
  {
   "cell_type": "markdown",
   "metadata": {},
   "source": [
    "По своей сути ошибка второго рода, т.е. ложноотрицательный тест, гораздо опаснее ложноположительного. Однако в условиях задачи вероятность того, что тест покажет отрицательный результ в случае, если пациент болен, не будет превышать 1% даже при высокой ошибке второго рода, в то время, как уменьшение ошибки ложноположительного теста даёт существенный рост корректности предсказания, когда пациент действительно болен. Таким образом, для более точного выявления больных разумнее было бы сосредоточиться на уменьшении ошибок первого рода."
   ]
  }
 ],
 "metadata": {
  "kernelspec": {
   "display_name": "Python 3",
   "language": "python",
   "name": "python3"
  },
  "language_info": {
   "codemirror_mode": {
    "name": "ipython",
    "version": 3
   },
   "file_extension": ".py",
   "mimetype": "text/x-python",
   "name": "python",
   "nbconvert_exporter": "python",
   "pygments_lexer": "ipython3",
   "version": "3.6.3"
  }
 },
 "nbformat": 4,
 "nbformat_minor": 2
}
